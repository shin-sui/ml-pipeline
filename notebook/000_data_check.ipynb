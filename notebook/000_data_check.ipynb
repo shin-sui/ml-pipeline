{
 "cells": [
  {
   "cell_type": "code",
   "execution_count": 1,
   "metadata": {},
   "outputs": [],
   "source": [
    "import polars as pl"
   ]
  },
  {
   "cell_type": "code",
   "execution_count": 2,
   "metadata": {},
   "outputs": [],
   "source": [
    "df = pl.read_csv(\"../data/raw/patent_deeplearning_2018.csv\")"
   ]
  },
  {
   "cell_type": "code",
   "execution_count": 10,
   "metadata": {},
   "outputs": [
    {
     "data": {
      "text/plain": [
       "Schema([('文献番号', String),\n",
       "        ('出願番号', String),\n",
       "        ('出願日', String),\n",
       "        ('公知日', String),\n",
       "        ('発明の名称', String),\n",
       "        ('出願人/権利者', String),\n",
       "        ('FI', String),\n",
       "        ('要約', String),\n",
       "        ('公開番号', String),\n",
       "        ('公告番号', String),\n",
       "        ('登録番号', String),\n",
       "        ('審判番号', String),\n",
       "        ('その他', String),\n",
       "        ('ステージ', String),\n",
       "        ('イベント詳細', String),\n",
       "        ('文献URL', String)])"
      ]
     },
     "execution_count": 10,
     "metadata": {},
     "output_type": "execute_result"
    }
   ],
   "source": [
    "df.schema"
   ]
  },
  {
   "cell_type": "code",
   "execution_count": 12,
   "metadata": {},
   "outputs": [
    {
     "data": {
      "text/html": [
       "<div><style>\n",
       ".dataframe > thead > tr,\n",
       ".dataframe > tbody > tr {\n",
       "  text-align: right;\n",
       "  white-space: pre-wrap;\n",
       "}\n",
       "</style>\n",
       "<small>shape: (5, 16)</small><table border=\"1\" class=\"dataframe\"><thead><tr><th>文献番号</th><th>出願番号</th><th>出願日</th><th>公知日</th><th>発明の名称</th><th>出願人/権利者</th><th>FI</th><th>要約</th><th>公開番号</th><th>公告番号</th><th>登録番号</th><th>審判番号</th><th>その他</th><th>ステージ</th><th>イベント詳細</th><th>文献URL</th></tr><tr><td>str</td><td>str</td><td>str</td><td>str</td><td>str</td><td>str</td><td>str</td><td>str</td><td>str</td><td>str</td><td>str</td><td>str</td><td>str</td><td>str</td><td>str</td><td>str</td></tr></thead><tbody><tr><td>&quot;特開2018-205978&quot;</td><td>&quot;特願2017-109404&quot;</td><td>&quot;2017/06/01&quot;</td><td>&quot;2018/12/27&quot;</td><td>&quot;情報抽出装置及び情報抽出方法&quot;</td><td>&quot;株式会社オブジェクト・オブ・ヌル&quot;</td><td>&quot;G06F17/30,210@A,G06F17/30,170@…</td><td>&quot;(57)【要約】\n",
       "【課題】ウェブページから情報を抽出する際の…</td><td>&quot;特開2018-205978&quot;</td><td>&quot;&quot;</td><td>&quot;特許7040745&quot;</td><td>&quot;&quot;</td><td>&quot;&quot;</td><td>&quot;特許 有効&quot;</td><td>&quot;登録公報の発行&quot;</td><td>&quot;https://www.j-platpat.inpit.go…</td></tr><tr><td>&quot;特表2020-502600&quot;</td><td>&quot;特願2018-566885&quot;</td><td>&quot;2018/06/15&quot;</td><td>&quot;2018/12/20&quot;</td><td>&quot;サービスリクエストを割り振るシステムおよび方法&quot;</td><td>&quot;ベイジン　ディディ　インフィニティ　テクノロジー　アンド　デ…</td><td>&quot;G06Q50/30,G06Q10/06,302,G06Q50…</td><td>&quot;(57)【要約】\n",
       "本開示は、オンラインツーオフラインサービス…</td><td>&quot;特表2020-502600&quot;</td><td>&quot;&quot;</td><td>&quot;特許6797943&quot;</td><td>&quot;&quot;</td><td>&quot;&quot;</td><td>&quot;特許 有効&quot;</td><td>&quot;年金の支払い&quot;</td><td>&quot;https://www.j-platpat.inpit.go…</td></tr><tr><td>&quot;再表2018/229881&quot;</td><td>&quot;特願2019-524609&quot;</td><td>&quot;2017/06/13&quot;</td><td>&quot;2018/12/20&quot;</td><td>&quot;スクリュ形状推定装置、スクリュ形状推定方法、スクリュ形状推定…</td><td>&quot;株式会社日本製鋼所&quot;</td><td>&quot;B29C45/76,B29C45/60,B29B7/48,B…</td><td>&quot;(57)【要約】\n",
       "&nbsp;&nbsp;樹脂物性を含む入力情報を取得すると共に…</td><td>&quot;WO2018/229881&quot;</td><td>&quot;&quot;</td><td>&quot;特許6913166&quot;</td><td>&quot;&quot;</td><td>&quot;再表2018/229881&quot;</td><td>&quot;特許 有効&quot;</td><td>&quot;年金の支払い&quot;</td><td>&quot;https://www.j-platpat.inpit.go…</td></tr><tr><td>&quot;特開2018-200677&quot;</td><td>&quot;特願2018-027615&quot;</td><td>&quot;2018/02/20&quot;</td><td>&quot;2018/12/20&quot;</td><td>&quot;管理方法、非一時的コンピュータ可読媒体および管理装置&quot;</td><td>&quot;株式会社日立製作所&quot;</td><td>&quot;G06N3/08,G06N99/00,180,G06N3/0…</td><td>&quot;(57)【要約】\n",
       "【課題】予測の精度および不確実性について同…</td><td>&quot;特開2018-200677&quot;</td><td>&quot;&quot;</td><td>&quot;特許6507279&quot;</td><td>&quot;&quot;</td><td>&quot;&quot;</td><td>&quot;特許 有効&quot;</td><td>&quot;年金の支払い&quot;</td><td>&quot;https://www.j-platpat.inpit.go…</td></tr><tr><td>&quot;特表2020-504360&quot;</td><td>&quot;特願2019-524077&quot;</td><td>&quot;2018/06/07&quot;</td><td>&quot;2018/12/13&quot;</td><td>&quot;顔活動検出方法および装置、ならびに電子デバイス&quot;</td><td>&quot;アリババ・グループ・ホールディング・リミテッド&quot;</td><td>&quot;G06T7/00,350@C,G06T7/00,510@F,…</td><td>&quot;(57)【要約】\n",
       "&nbsp;&nbsp;全体的な顔画像に基づいて第1の深層学習…</td><td>&quot;特表2020-504360&quot;</td><td>&quot;&quot;</td><td>&quot;特許6732317&quot;</td><td>&quot;&quot;</td><td>&quot;&quot;</td><td>&quot;特許 有効&quot;</td><td>&quot;年金の支払い&quot;</td><td>&quot;https://www.j-platpat.inpit.go…</td></tr></tbody></table></div>"
      ],
      "text/plain": [
       "shape: (5, 16)\n",
       "┌───────────┬───────────┬───────────┬───────────┬───┬───────────┬───────────┬───────────┬──────────┐\n",
       "│ 文献番号  ┆ 出願番号  ┆ 出願日    ┆ 公知日    ┆ … ┆ その他    ┆ ステージ  ┆ イベント  ┆ 文献URL  │\n",
       "│ ---       ┆ ---       ┆ ---       ┆ ---       ┆   ┆ ---       ┆ ---       ┆ 詳細      ┆ ---      │\n",
       "│ str       ┆ str       ┆ str       ┆ str       ┆   ┆ str       ┆ str       ┆ ---       ┆ str      │\n",
       "│           ┆           ┆           ┆           ┆   ┆           ┆           ┆ str       ┆          │\n",
       "╞═══════════╪═══════════╪═══════════╪═══════════╪═══╪═══════════╪═══════════╪═══════════╪══════════╡\n",
       "│ 特開2018- ┆ 特願2017- ┆ 2017/06/0 ┆ 2018/12/2 ┆ … ┆           ┆ 特許 有効 ┆ 登録公報  ┆ https:// │\n",
       "│ 205978    ┆ 109404    ┆ 1         ┆ 7         ┆   ┆           ┆           ┆ の発行    ┆ www.j-pl │\n",
       "│           ┆           ┆           ┆           ┆   ┆           ┆           ┆           ┆ atpat.in │\n",
       "│           ┆           ┆           ┆           ┆   ┆           ┆           ┆           ┆ pit.go…  │\n",
       "│ 特表2020- ┆ 特願2018- ┆ 2018/06/1 ┆ 2018/12/2 ┆ … ┆           ┆ 特許 有効 ┆ 年金の支  ┆ https:// │\n",
       "│ 502600    ┆ 566885    ┆ 5         ┆ 0         ┆   ┆           ┆           ┆ 払い      ┆ www.j-pl │\n",
       "│           ┆           ┆           ┆           ┆   ┆           ┆           ┆           ┆ atpat.in │\n",
       "│           ┆           ┆           ┆           ┆   ┆           ┆           ┆           ┆ pit.go…  │\n",
       "│ 再表2018/ ┆ 特願2019- ┆ 2017/06/1 ┆ 2018/12/2 ┆ … ┆ 再表2018/ ┆ 特許 有効 ┆ 年金の支  ┆ https:// │\n",
       "│ 229881    ┆ 524609    ┆ 3         ┆ 0         ┆   ┆ 229881    ┆           ┆ 払い      ┆ www.j-pl │\n",
       "│           ┆           ┆           ┆           ┆   ┆           ┆           ┆           ┆ atpat.in │\n",
       "│           ┆           ┆           ┆           ┆   ┆           ┆           ┆           ┆ pit.go…  │\n",
       "│ 特開2018- ┆ 特願2018- ┆ 2018/02/2 ┆ 2018/12/2 ┆ … ┆           ┆ 特許 有効 ┆ 年金の支  ┆ https:// │\n",
       "│ 200677    ┆ 027615    ┆ 0         ┆ 0         ┆   ┆           ┆           ┆ 払い      ┆ www.j-pl │\n",
       "│           ┆           ┆           ┆           ┆   ┆           ┆           ┆           ┆ atpat.in │\n",
       "│           ┆           ┆           ┆           ┆   ┆           ┆           ┆           ┆ pit.go…  │\n",
       "│ 特表2020- ┆ 特願2019- ┆ 2018/06/0 ┆ 2018/12/1 ┆ … ┆           ┆ 特許 有効 ┆ 年金の支  ┆ https:// │\n",
       "│ 504360    ┆ 524077    ┆ 7         ┆ 3         ┆   ┆           ┆           ┆ 払い      ┆ www.j-pl │\n",
       "│           ┆           ┆           ┆           ┆   ┆           ┆           ┆           ┆ atpat.in │\n",
       "│           ┆           ┆           ┆           ┆   ┆           ┆           ┆           ┆ pit.go…  │\n",
       "└───────────┴───────────┴───────────┴───────────┴───┴───────────┴───────────┴───────────┴──────────┘"
      ]
     },
     "execution_count": 12,
     "metadata": {},
     "output_type": "execute_result"
    }
   ],
   "source": [
    "df.head(n=5)"
   ]
  },
  {
   "cell_type": "code",
   "execution_count": 15,
   "metadata": {},
   "outputs": [
    {
     "data": {
      "text/html": [
       "<div><style>\n",
       ".dataframe > thead > tr,\n",
       ".dataframe > tbody > tr {\n",
       "  text-align: right;\n",
       "  white-space: pre-wrap;\n",
       "}\n",
       "</style>\n",
       "<small>shape: (1, 16)</small><table border=\"1\" class=\"dataframe\"><thead><tr><th>文献番号</th><th>出願番号</th><th>出願日</th><th>公知日</th><th>発明の名称</th><th>出願人/権利者</th><th>FI</th><th>要約</th><th>公開番号</th><th>公告番号</th><th>登録番号</th><th>審判番号</th><th>その他</th><th>ステージ</th><th>イベント詳細</th><th>文献URL</th></tr><tr><td>u32</td><td>u32</td><td>u32</td><td>u32</td><td>u32</td><td>u32</td><td>u32</td><td>u32</td><td>u32</td><td>u32</td><td>u32</td><td>u32</td><td>u32</td><td>u32</td><td>u32</td><td>u32</td></tr></thead><tbody><tr><td>0</td><td>0</td><td>0</td><td>0</td><td>0</td><td>0</td><td>0</td><td>0</td><td>0</td><td>0</td><td>0</td><td>0</td><td>0</td><td>0</td><td>0</td><td>0</td></tr></tbody></table></div>"
      ],
      "text/plain": [
       "shape: (1, 16)\n",
       "┌──────────┬──────────┬────────┬────────┬───┬────────┬──────────┬──────────────┬─────────┐\n",
       "│ 文献番号 ┆ 出願番号 ┆ 出願日 ┆ 公知日 ┆ … ┆ その他 ┆ ステージ ┆ イベント詳細 ┆ 文献URL │\n",
       "│ ---      ┆ ---      ┆ ---    ┆ ---    ┆   ┆ ---    ┆ ---      ┆ ---          ┆ ---     │\n",
       "│ u32      ┆ u32      ┆ u32    ┆ u32    ┆   ┆ u32    ┆ u32      ┆ u32          ┆ u32     │\n",
       "╞══════════╪══════════╪════════╪════════╪═══╪════════╪══════════╪══════════════╪═════════╡\n",
       "│ 0        ┆ 0        ┆ 0      ┆ 0      ┆ … ┆ 0      ┆ 0        ┆ 0            ┆ 0       │\n",
       "└──────────┴──────────┴────────┴────────┴───┴────────┴──────────┴──────────────┴─────────┘"
      ]
     },
     "execution_count": 15,
     "metadata": {},
     "output_type": "execute_result"
    }
   ],
   "source": [
    "df.null_count()"
   ]
  },
  {
   "cell_type": "code",
   "execution_count": null,
   "metadata": {},
   "outputs": [],
   "source": []
  }
 ],
 "metadata": {
  "kernelspec": {
   "display_name": "Python 3.12.9 ('.venv': venv)",
   "language": "python",
   "name": "python3"
  },
  "language_info": {
   "codemirror_mode": {
    "name": "ipython",
    "version": 3
   },
   "file_extension": ".py",
   "mimetype": "text/x-python",
   "name": "python",
   "nbconvert_exporter": "python",
   "pygments_lexer": "ipython3",
   "version": "3.12.9"
  },
  "orig_nbformat": 4,
  "vscode": {
   "interpreter": {
    "hash": "0b5764d990ca041aec3db646251fce252e662ccbdb87b1246075793e7e44213d"
   }
  }
 },
 "nbformat": 4,
 "nbformat_minor": 2
}
